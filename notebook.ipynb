{
 "cells": [
  {
   "cell_type": "code",
   "execution_count": 13,
   "metadata": {},
   "outputs": [
    {
     "name": "stdout",
     "output_type": "stream",
     "text": [
      "5 abanan\n",
      "3 anaban\n",
      "1 ananab\n",
      "0 banana\n",
      "4 nabana\n",
      "2 nanaba\n",
      "nnbaaa\n"
     ]
    }
   ],
   "source": [
    "def make_sa(text):\n",
    "    return [i for suf, i in sorted([(text[i:]+text[:i], i) for i in range(len(text))])]\n",
    "def make_bwt(text):\n",
    "    n=len(text)\n",
    "    sa = make_sa(text)\n",
    "    return ''.join(text[(n+i-1)%n] for i in sa)\n",
    "text = 'banana'\n",
    "sa = make_sa(text)\n",
    "for i in sa:\n",
    "    print(i, text[i:]+text[:i])\n",
    "print(make_bwt(text))"
   ]
  },
  {
   "cell_type": "code",
   "execution_count": 14,
   "metadata": {},
   "outputs": [
    {
     "data": {
      "text/plain": [
       "5757"
      ]
     },
     "execution_count": 14,
     "metadata": {},
     "output_type": "execute_result"
    }
   ],
   "source": [
    "from wordlist import WORDS\n",
    "len(WORDS)"
   ]
  },
  {
   "cell_type": "code",
   "execution_count": 15,
   "metadata": {},
   "outputs": [],
   "source": [
    "bwts = [make_bwt(word) for word in WORDS]\n",
    "with open('src/constants/wordlist.ts', 'w') as f:\n",
    "    f.write('export const WORDS =')\n",
    "    f.write(str(bwts))\n"
   ]
  },
  {
   "cell_type": "code",
   "execution_count": 16,
   "metadata": {},
   "outputs": [
    {
     "name": "stdout",
     "output_type": "stream",
     "text": [
      "ocryk\n",
      "nwigs\n",
      "hdtep\n",
      "mlaub\n",
      "lgrea\n"
     ]
    }
   ],
   "source": [
    "keys=['rocky', 'swing', 'depth','album']\n",
    "for key in keys:\n",
    "    print(make_bwt(key))\n",
    "print(make_bwt('large'))"
   ]
  }
 ],
 "metadata": {
  "interpreter": {
   "hash": "e1566c3c89cdcf2759a8175e709e90e397cb53dd38afe3023c1fc6e9169a4907"
  },
  "kernelspec": {
   "display_name": "Python 3.9.6 64-bit ('3.9.6': pyenv)",
   "language": "python",
   "name": "python3"
  },
  "language_info": {
   "codemirror_mode": {
    "name": "ipython",
    "version": 3
   },
   "file_extension": ".py",
   "mimetype": "text/x-python",
   "name": "python",
   "nbconvert_exporter": "python",
   "pygments_lexer": "ipython3",
   "version": "3.9.6"
  },
  "orig_nbformat": 4
 },
 "nbformat": 4,
 "nbformat_minor": 2
}
