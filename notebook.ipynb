{
 "cells": [
  {
   "cell_type": "code",
   "execution_count": 2,
   "metadata": {},
   "outputs": [
    {
     "name": "stdout",
     "output_type": "stream",
     "text": [
      "5 a\n",
      "3 ana\n",
      "1 anana\n",
      "0 banana\n",
      "4 na\n",
      "2 nana\n",
      "nnbaaa\n"
     ]
    }
   ],
   "source": [
    "def make_sa(text):\n",
    "    return [i for suf, i in sorted([(text[i:], i) for i in range(len(text))])]\n",
    "def make_bwt(text):\n",
    "    n=len(text)\n",
    "    sa = make_sa(text)\n",
    "    return ''.join(text[(n+i-1)%n] for i in sa)\n",
    "text = 'banana'\n",
    "sa = make_sa(text)\n",
    "for i in sa:\n",
    "    print(i, text[i:])\n",
    "print(make_bwt(text))"
   ]
  },
  {
   "cell_type": "code",
   "execution_count": 3,
   "metadata": {},
   "outputs": [
    {
     "data": {
      "text/plain": [
       "5757"
      ]
     },
     "execution_count": 3,
     "metadata": {},
     "output_type": "execute_result"
    }
   ],
   "source": [
    "from wordlist import WORDS\n",
    "len(WORDS)"
   ]
  },
  {
   "cell_type": "code",
   "execution_count": 5,
   "metadata": {},
   "outputs": [],
   "source": [
    "bwts = [make_bwt(word) for word in WORDS]\n",
    "with open('src/constants/wordlist.ts', 'w') as f:\n",
    "    f.write('export const WORDS =')\n",
    "    f.write(str(bwts))\n"
   ]
  },
  {
   "cell_type": "code",
   "execution_count": null,
   "metadata": {},
   "outputs": [],
   "source": []
  }
 ],
 "metadata": {
  "interpreter": {
   "hash": "e1566c3c89cdcf2759a8175e709e90e397cb53dd38afe3023c1fc6e9169a4907"
  },
  "kernelspec": {
   "display_name": "Python 3.9.6 64-bit ('3.9.6': pyenv)",
   "language": "python",
   "name": "python3"
  },
  "language_info": {
   "codemirror_mode": {
    "name": "ipython",
    "version": 3
   },
   "file_extension": ".py",
   "mimetype": "text/x-python",
   "name": "python",
   "nbconvert_exporter": "python",
   "pygments_lexer": "ipython3",
   "version": "3.9.6"
  },
  "orig_nbformat": 4
 },
 "nbformat": 4,
 "nbformat_minor": 2
}
